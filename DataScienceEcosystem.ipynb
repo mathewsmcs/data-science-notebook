{
 "cells": [
  {
   "cell_type": "markdown",
   "id": "7d4572ec-c09a-4b53-a75b-89efedeaf560",
   "metadata": {},
   "source": [
    "Data Science Tools and Ecosystem"
   ]
  },
  {
   "cell_type": "markdown",
   "id": "448d6b03-9e6c-42fa-ae47-7000bea4f7f1",
   "metadata": {},
   "source": [
    "In this notebook, Data Science Tools and Ecosystem are summarized."
   ]
  },
  {
   "cell_type": "markdown",
   "id": "eb237b66-856a-4c7b-8460-2e50a8af3b4e",
   "metadata": {},
   "source": [
    "Some of the popular languages that Data Scientists use are: \n",
    "    Python \n",
    "    R\n",
    "    Java"
   ]
  },
  {
   "cell_type": "markdown",
   "id": "552d3612-8ff3-4c7f-927c-cf0f29fb383b",
   "metadata": {},
   "source": [
    "Some of the commonly used libraries used by Data Scientists include: \n",
    "    Pandas\n",
    "    Numpy\n",
    "    Seaborn"
   ]
  },
  {
   "cell_type": "markdown",
   "id": "215d53ce-48dd-421a-b1d0-e0abb369e483",
   "metadata": {},
   "source": [
    "Data Science Tools:\n",
    "    Jupyter Notebook\n",
    "    R Studio\n",
    "    Google Colab\n"
   ]
  },
  {
   "cell_type": "markdown",
   "id": "3850945a-c354-4664-9ad5-afa2cd487821",
   "metadata": {},
   "source": [
    "Below are a few examples of evaluating arithmetic expressions in Python:\n",
    "    Basic Arithmetic Operations\n",
    "# Addition\n",
    "result = 10 + 5\n",
    "print(\"10 + 5 =\", result)  # Output: 15\n",
    "\n",
    "# Subtraction\n",
    "result = 10 - 5\n",
    "print(\"10 - 5 =\", result)  # Output: 5\n",
    "\n",
    "# Multiplication\n",
    "result = 10 * 5\n",
    "print(\"10 * 5 =\", result)  # Output: 50\n",
    "\n",
    "# Division\n",
    "result = 10 / 5\n",
    "print(\"10 / 5 =\", result)  # Output: 2.0"
   ]
  },
  {
   "cell_type": "markdown",
   "id": "18ba7056-3262-46b6-a890-d88c91f1b16c",
   "metadata": {},
   "source": [
    "This a simple arithmetic expression to mutiply then add integers\n",
    "\n",
    "result = (3 * 4) + 5\n",
    "print(\"Result:\", result)\n",
    " # Result: 17\n",
    "\n"
   ]
  },
  {
   "cell_type": "markdown",
   "id": "f3b06b16-8a52-4cf1-80d8-1c9c507e6a61",
   "metadata": {},
   "source": [
    "\n",
    "# Convert 200 minutes into hours\n",
    "minutes = 200\n",
    "hours = minutes / 60\n",
    "\n",
    "print(\"200 minutes is equal to\", hours, \"hours\")\n"
   ]
  },
  {
   "cell_type": "markdown",
   "id": "7c9a61b4-4b56-4f91-b7b1-2323e1880d18",
   "metadata": {},
   "source": [
    "**Objectives:**\n",
    "\n",
    "- **List popular languages for Data Science**  \n",
    "  *Example:* Python, R, SQL, Julia\n",
    "\n",
    "- **Identify commonly used libraries in Data Science**  \n",
    "  *Example:* Pandas, NumPy, Matplotlib, Scikit-learn, TensorFlow\n",
    "\n",
    "- **Understand basic arithmetic expression evaluation in Python**  \n",
    "  *Example:* `(3 * 4) + 5` evaluates to `17`\n",
    "\n",
    "- **Convert units (e.g., minutes to hours) using Python expressions**  \n",
    "  *Example:* `200 / 60` results in `3.33` hours\n",
    "\n",
    "- **Use Markdown and code cells effectively in a Jupyter notebook**  \n",
    "  *Example:* Use `#` for headings, `**bold**` for bold text, and triple backticks (\\`\\`\\`) for code blocks\n"
   ]
  },
  {
   "cell_type": "markdown",
   "id": "cea2ea42-643f-44b2-b621-72e8b71c4424",
   "metadata": {},
   "source": [
    "## Author\n",
    "\n",
    "Mathews M"
   ]
  }
 ],
 "metadata": {
  "kernelspec": {
   "display_name": "Python 3 (ipykernel)",
   "language": "python",
   "name": "python3"
  },
  "language_info": {
   "codemirror_mode": {
    "name": "ipython",
    "version": 3
   },
   "file_extension": ".py",
   "mimetype": "text/x-python",
   "name": "python",
   "nbconvert_exporter": "python",
   "pygments_lexer": "ipython3",
   "version": "3.12.8"
  }
 },
 "nbformat": 4,
 "nbformat_minor": 5
}
